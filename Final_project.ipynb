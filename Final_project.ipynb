{
 "cells": [
  {
   "cell_type": "code",
   "execution_count": 7,
   "metadata": {},
   "outputs": [
    {
     "name": "stdout",
     "output_type": "stream",
     "text": [
      "                        name        neighborhood                   type\n",
      "0             Able Long Park           Beechview                   Park\n",
      "1    Albert Turk Graham Park    Crawford-Roberts                   Park\n",
      "2                 Alcoa Park         North Shore                   Park\n",
      "3          Allegheny Commons    Allegheny Center                   Park\n",
      "4     Allegheny Landing Park         North Shore                   Park\n",
      "..                       ...                 ...                    ...\n",
      "204  Windermere Circle 1 & 2      Swisshelm Park  Traffic Island/Median\n",
      "205             Winters Park   South Side Slopes                   Park\n",
      "206           Woods Run Park  Marshall-Shadeland                   Park\n",
      "207         Young Field Park  Marshall-Shadeland                   Park\n",
      "208              Zulema Park     Central Oakland                   Park\n",
      "\n",
      "[209 rows x 3 columns]\n"
     ]
    }
   ],
   "source": [
    "import pandas as pd\n",
    "\n",
    "# Read the CSV file\n",
    "file = pd.read_csv(\"parks.csv\")\n",
    "\n",
    "# Drop specified columns\n",
    "columns_to_drop = ['_id', 'id', 'maintenance_responsibility', 'image', 'council_district', 'ward', 'tract', 'public_works_division', 'pli_division', 'police_zone', 'fire_zone', 'latitude', 'longitude']\n",
    "file = file.drop(columns_to_drop, axis=1)\n",
    "\n",
    "# Group by 'name' and 'neighborhood', summing the remaining columns\n",
    "grouped_file = file.groupby(['name', 'neighborhood', 'type'], as_index=False).sum()\n",
    "print(grouped_file)\n"
   ]
  },
  {
   "cell_type": "markdown",
   "metadata": {},
   "source": [
    "First, I read in the data and had it show only the name, neighborhood, and type. The reason I kept type was because the data counted traffic circles and mediums as a park. However, I want analyze actual walkable parks."
   ]
  },
  {
   "cell_type": "code",
   "execution_count": 3,
   "metadata": {},
   "outputs": [
    {
     "name": "stdout",
     "output_type": "stream",
     "text": [
      "         neighborhood  park_count\n",
      "55  South Side Slopes           6\n",
      "5           Beechview           6\n",
      "43   Mount Washington           5\n",
      "30          Hazelwood           5\n",
      "64          Troy Hill           5\n",
      "..                ...         ...\n",
      "34      Homewood West           1\n",
      "41        Middle Hill           1\n",
      "42        Morningside           1\n",
      "44      New Homestead           1\n",
      "70            Windgap           1\n",
      "\n",
      "[71 rows x 2 columns]\n"
     ]
    }
   ],
   "source": [
    "import pandas as pd\n",
    "\n",
    "# Read the CSV file\n",
    "file = pd.read_csv(\"parks.csv\")\n",
    "\n",
    "# Drop specified columns\n",
    "columns_to_drop = ['_id', 'id', 'maintenance_responsibility', 'image', 'council_district', 'ward', 'tract', 'public_works_division', 'pli_division', 'police_zone', 'fire_zone', 'latitude', 'longitude']\n",
    "file = file.drop(columns_to_drop, axis=1)\n",
    "\n",
    "# Group by 'name', 'neighborhood', and 'type', summing the remaining columns\n",
    "grouped_file = file.groupby(['name', 'neighborhood', 'type'], as_index=False).sum()\n",
    "\n",
    "# Filter out rows where the 'type' is not 'park'\n",
    "parks_only = grouped_file[grouped_file['type'] == 'Park']\n",
    "\n",
    "# Group by 'neighborhood' to count parks in each neighborhood\n",
    "neighborhood_parks_count = parks_only.groupby('neighborhood')['name'].count().reset_index()\n",
    "neighborhood_parks_count.columns = ['neighborhood', 'park_count']\n",
    "\n",
    "# Sort neighborhoods by park count (from most to least parks)\n",
    "sorted_neighborhoods = neighborhood_parks_count.sort_values(by='park_count', ascending=False)\n",
    "\n",
    "print(sorted_neighborhoods)\n"
   ]
  },
  {
   "cell_type": "code",
   "execution_count": 4,
   "metadata": {},
   "outputs": [
    {
     "name": "stdout",
     "output_type": "stream",
     "text": [
      "           neighborhood  park_count\n",
      "55    South Side Slopes           6\n",
      "5             Beechview           6\n",
      "43     Mount Washington           5\n",
      "30            Hazelwood           5\n",
      "64            Troy Hill           5\n",
      "40   Marshall-Shadeland           4\n",
      "23              Elliott           4\n",
      "22         East Liberty           4\n",
      "52             Sheraden           4\n",
      "38  Lower Lawrenceville           3\n"
     ]
    }
   ],
   "source": [
    "import pandas as pd\n",
    "\n",
    "data = neighborhood_parks_count.sort_values(by='park_count', ascending=False).head(10)\n",
    "print(data)\n",
    "\n"
   ]
  },
  {
   "cell_type": "markdown",
   "metadata": {},
   "source": [
    "Next, I had it take the top ten, then sort by getting rid of anything in the 'type' colunn that wasn't listed as a 'park'. Then, I jad it sort the data by which neighborhoods had the most parks and put it at the top of the list."
   ]
  },
  {
   "cell_type": "code",
   "execution_count": 5,
   "metadata": {},
   "outputs": [
    {
     "data": {
      "image/png": "[encoded data removed]",
      "text/plain": [
       "<Figure size 432x288 with 1 Axes>"
      ]
     },
     "metadata": {
      "needs_background": "light"
     },
     "output_type": "display_data"
    }
   ],
   "source": [
    "import matplotlib.pyplot as plt\n",
    "\n",
    "# Assuming 'data' contains the DataFrame with 'neighborhood' and corresponding values for plotting\n",
    "data.plot(kind='bar', x='neighborhood', y='park_count')\n",
    "plt.xlabel('Neighborhood')\n",
    "plt.ylabel('Park Count')\n",
    "plt.show()\n"
   ]
  },
  {
   "cell_type": "markdown",
   "metadata": {},
   "source": [
    "I made a graph to visually show which neighborhoods had the most parks. Clearly the South Side Slopes and Beechview have the most parks. In order to determine which of the two is better, we must take into account the other data and compare if it exvels in other aspects other than just how many parks it has."
   ]
  }
 ],
 "metadata": {
  "kernelspec": {
   "display_name": "Python 3",
   "language": "python",
   "name": "python3"
  },
  "language_info": {
   "codemirror_mode": {
    "name": "ipython",
    "version": 3
   },
   "file_extension": ".py",
   "mimetype": "text/x-python",
   "name": "python",
   "nbconvert_exporter": "python",
   "pygments_lexer": "ipython3",
   "version": "3.8.3"
  }
 },
 "nbformat": 4,
 "nbformat_minor": 4
}
