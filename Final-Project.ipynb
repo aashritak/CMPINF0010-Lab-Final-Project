{
 "cells": [
  {
   "cell_type": "markdown",
   "metadata": {},
   "source": [
    "Final Project"
   ]
  },
  {
   "cell_type": "code",
   "execution_count": 6,
   "metadata": {},
   "outputs": [
    {
     "name": "stdout",
     "output_type": "stream",
     "text": [
      "Empty DataFrame\n",
      "Columns: []\n",
      "Index: [(Acme, V, SandwitchCraft (ZGX9157) MFF4), (Aliquippa, V, Kookie's Cart MFF1), (Aliquippa, V, Palms Brazilian Steakhouse - Mobile), (Aliquippa, V, Patti's Pastries (XTK-7969) MFF3), (Aliquippa, V, The Humble Cookie Stand (XKZ-3096) MFF3), (Allison Park, N, 7-Eleven #36187), (Allison Park, N, A Sweet Morsel), (Allison Park, N, Allison Park Assembly Of God Church), (Allison Park, N, Bellisario's Restaurant), (Allison Park, N, Caliente Pizza & Draft House), (Allison Park, N, Casey's Family Restaurant), (Allison Park, N, Fare @ Home), (Allison Park, N, Golden Star), (Allison Park, N, Hampton High School Cafeteria), (Allison Park, N, Jersey Mike's Subs #8060), (Allison Park, N, K Asian Bistro Sushi Bar), (Allison Park, N, Kanlaya Thai Kitchen), (Allison Park, N, Monte Cello's @ The Hampton Shoppes), (Allison Park, N, North Park Golf Course Bar & Grill), (Allison Park, N, Rose Ridge Golf Course), (Allison Park, N, Senior Center North @ Parkwood Church), (Allison Park, N, St Paul's United Methodist Church), (Allison Park, N, St Pauls Kidz Korner), (Allison Park, N, Three Little Birds Cafe & Juice Bar), (Allison Park, N, Tomato Pie Cafe), (Allison Park, N, Wyland Elementary School Cafeteria), (Allison Park, V, 19th Hole Pub & Grill @ North Park), (Allison Park, V, 7-Eleven #36186), (Allison Park, V, 7-Eleven #36187), (Allison Park, V, A Sweet Morsel), (Allison Park, V, A. W. Beattie Career Center / Culinary Arts), (Allison Park, V, Aiello's Pizza), (Allison Park, V, Aldi #68), (Allison Park, V, Allison Park Assembly Of God Church), (Allison Park, V, Allison Park Mini Market), (Allison Park, V, Barrel Junction), (Allison Park, V, Bellisario's Restaurant), (Allison Park, V, Betsy Ann Chocolates), (Allison Park, V, Blue), (Allison Park, V, Blue North), (Allison Park, V, Burchfield Elementary), (Allison Park, V, Burger King #1076), (Allison Park, V, Burger King #463), (Allison Park, V, CCAC Police & Fire Academy), (Allison Park, V, CVS / Pharmacy #7611), (Allison Park, V, Cadence Clubhouse Cafe & Taproom), (Allison Park, V, Cadence+ Clubhouse), (Allison Park, V, Caliente Pizza & Draft House), (Allison Park, V, Campfired (XLH-9306) MFF3), (Allison Park, V, Campfired Commissary), (Allison Park, V, Casey's Family Restaurant), (Allison Park, V, Celebration Villa of Allison Park), (Allison Park, V, Central Elementary School Cafeteria), (Allison Park, V, China Bistro), (Allison Park, V, Chipotle Mexican Grill #3343), (Allison Park, V, Chow's Asian Cuisine), (Allison Park, V, Club Sandwich & Deli II), (Allison Park, V, Cumberland Woods Village), (Allison Park, V, Davis & Davis Gourmet Foods), (Allison Park, V, Dollar General #20044), (Allison Park, V, Dollar General #7003), (Allison Park, V, Dollar Tree #4790), (Allison Park, V, Dollar Tree #7202), (Allison Park, V, Domino's Pizza), (Allison Park, V, Domino's Pizza #9085), (Allison Park, V, EZ Energy #306 / 7 Eleven #36186H), (Allison Park, V, EZ Energy #307 / 7 Eleven #36187H), (Allison Park, V, Elmcroft of Allison Park), (Allison Park, V, Fare @ Home), (Allison Park, V, GetGo Cafe + Market #3489), (Allison Park, V, Golden Star), (Allison Park, V, Golden land Asian Cuisine), (Allison Park, V, Grace Manor at North Park), (Allison Park, V, Hampton Beer Outlet), (Allison Park, V, Hampton High School Cafeteria), (Allison Park, V, Hampton Middle School Cafeteria), (Allison Park, V, Hampton Sports Zone), (Allison Park, V, Hampton Sunoco), (Allison Park, V, Hampton Twp Snack Bar), (Allison Park, V, Hampton Volunteer Fire Co), (Allison Park, V, Hartwood Wine Cave), (Allison Park, V, Highpointe @ Rebecca), (Allison Park, V, Hillrise Farm / SugarBakers), (Allison Park, V, Home Depot #4152), (Allison Park, V, Hosack Elementary School Cafeteria), (Allison Park, V, It's All About Kids), (Allison Park, V, JJ Panda), (Allison Park, V, Jay's Other Place), (Allison Park, V, Jersey Mike's Subs #8060), (Allison Park, V, Jump Zone), (Allison Park, V, K Asian Bistro Sushi Bar), (Allison Park, V, Kanlaya Thai Kitchen), (Allison Park, V, Kawa Hibachi & Sushi), (Allison Park, V, Kearns Spirituality Center Rooms), (Allison Park, V, Kentucky Fried Chicken #15), (Allison Park, V, Kool Kids Ice Cream @ North Park Skating Rink), (Allison Park, V, Kuhn's Market), (Allison Park, V, La Vite Ristorante @ Hartwood Wine Cave), (Allison Park, V, Little Caesars #154), (Allison Park, V, Mascari's Duncan Manor Exxon / Staks), ...]\n",
      "\n",
      "[14543 rows x 0 columns]\n"
     ]
    }
   ],
   "source": [
    "import pandas as pd\n",
    "\n",
    "file = pd.read_csv(\"RestaurantInspections.csv\")\n",
    "file.drop(['_id', 'encounter', 'id', 'placard_st', 'bus_st_date', 'description', 'num', 'street', 'state', 'zip', 'inspect_dt', 'start_time', 'end_time', 'municipal', 'url', 'low', 'medium', 'high', 'description_new'], inplace = True, axis = 1)\n",
    "file = file.groupby(['city', 'rating', 'facility_name'], as_index = False).sum()\n",
    "file.set_index(['city', 'rating', 'facility_name'], drop = True, append = False, inplace = True, verify_integrity = False)\n",
    "print(file)"
   ]
  },
  {
   "cell_type": "code",
   "execution_count": 5,
   "metadata": {},
   "outputs": [
    {
     "data": {
      "text/html": [
       "<div>\n",
       "<style scoped>\n",
       "    .dataframe tbody tr th:only-of-type {\n",
       "        vertical-align: middle;\n",
       "    }\n",
       "\n",
       "    .dataframe tbody tr th {\n",
       "        vertical-align: top;\n",
       "    }\n",
       "\n",
       "    .dataframe thead th {\n",
       "        text-align: right;\n",
       "    }\n",
       "</style>\n",
       "<table border=\"1\" class=\"dataframe\">\n",
       "  <thead>\n",
       "    <tr style=\"text-align: right;\">\n",
       "      <th></th>\n",
       "      <th></th>\n",
       "      <th></th>\n",
       "    </tr>\n",
       "    <tr>\n",
       "      <th>city</th>\n",
       "      <th>rating</th>\n",
       "      <th>facility_name</th>\n",
       "    </tr>\n",
       "  </thead>\n",
       "  <tbody>\n",
       "    <tr>\n",
       "      <th>Zelienople</th>\n",
       "      <th>V</th>\n",
       "      <th>Oh My Grill (ZCA 5335) MFF4</th>\n",
       "    </tr>\n",
       "    <tr>\n",
       "      <th>Youngwood</th>\n",
       "      <th>V</th>\n",
       "      <th>Elegant Catering (ZKJ96987) MFF4</th>\n",
       "    </tr>\n",
       "    <tr>\n",
       "      <th>Youngstown</th>\n",
       "      <th>V</th>\n",
       "      <th>A Taste of Nawln's (JPE182) MFF4</th>\n",
       "    </tr>\n",
       "    <tr>\n",
       "      <th rowspan=\"2\" valign=\"top\">Wilmerding</th>\n",
       "      <th rowspan=\"2\" valign=\"top\">V</th>\n",
       "      <th>Wilmerding Tobacco Outlet</th>\n",
       "    </tr>\n",
       "    <tr>\n",
       "      <th>Westinghouse Arts Academy Cafeteria - Castle</th>\n",
       "    </tr>\n",
       "    <tr>\n",
       "      <th>...</th>\n",
       "      <th>...</th>\n",
       "      <th>...</th>\n",
       "    </tr>\n",
       "    <tr>\n",
       "      <th rowspan=\"5\" valign=\"top\">Wexford</th>\n",
       "      <th rowspan=\"5\" valign=\"top\">V</th>\n",
       "      <th>Noodles &amp; Company</th>\n",
       "    </tr>\n",
       "    <tr>\n",
       "      <th>Naturally Soergel's &amp; Gift Barn</th>\n",
       "    </tr>\n",
       "    <tr>\n",
       "      <th>Nakama North</th>\n",
       "    </tr>\n",
       "    <tr>\n",
       "      <th>NASH Softball Field Concession Stand</th>\n",
       "    </tr>\n",
       "    <tr>\n",
       "      <th>Monte Cello's</th>\n",
       "    </tr>\n",
       "  </tbody>\n",
       "</table>\n",
       "<p>110 rows × 0 columns</p>\n",
       "</div>"
      ],
      "text/plain": [
       "Empty DataFrame\n",
       "Columns: []\n",
       "Index: [(Zelienople, V, Oh My Grill (ZCA 5335) MFF4), (Youngwood, V, Elegant Catering (ZKJ96987) MFF4), (Youngstown, V, A Taste of Nawln's (JPE182) MFF4), (Wilmerding, V, Wilmerding Tobacco Outlet), (Wilmerding, V, Westinghouse Arts Academy Cafeteria - Castle), (Wilmerding, V, Westinghouse Arts Academy), (Wilmerding, V, The Fan Club Sports Bar), (Wilmerding, V, Station Brake Cafe), (Wilmerding, V, St Jude Catholic Church), (Wilmerding, V, Spitfirez), (Wilmerding, V, Pasquale's Pizzeria), (Wilmerding, V, Our Place Homemade), (Wilmerding, V, Off The Wall Bar & Grill), (Wilmerding, V, Lost Comrades Post #1768), (Wilmerding, V, Karans Restaurant), (Wilmerding, V, Johnny's Italian Cuisine), (Wilmerding, V, Holy Angels Evangelical Lutheran Church), (Wilmerding, V, Evening Star), (Wilmerding, V, Eddie's Restaurant & Lounge), (Wilmerding, V, Dollar General #13123), (Wilmerding, V, Deli Icious Catering), (Wilmerding, V, Banquets Unlimited), (Wilmerding, V, Angie's Italian Food), (Wilmerding, V, American Ukrainian Citizens Club Wilmerding), (Wilmerding, V, AIU East Allegheny Pre-K Counts (Wilmerding)), (Wilmerding, N, Station Brake Cafe), (Wilmerding, N, Johnny's Italian Cuisine), (Wilmerding, N, Evening Star), (Wilmerding, N, Deli Icious Catering), (Wilmerding, N, Banquets Unlimited), (Wildwood, V, Wildwood Highlands Fun Ctr), (Wexford, V, Zuppa's Delicatessen), (Wexford, V, Yum Frozen Yogurt), (Wexford, V, YUM Frozen Yogurt), (Wexford, V, XGolf Wexford), (Wexford, V, Whole Foods Wexford #10377), (Wexford, V, Wexford Inn & Suites), (Wexford, V, Wexford Health Care Center), (Wexford, V, Wexford Beer Distributor), (Wexford, V, Wendy's Old Fashioned Hamburgers #574), (Wexford, V, Wendy's Old Fashioned Hamburgers #10427), (Wexford, V, Walnut Grill Wexford), (Wexford, V, Walgreens #10282), (Wexford, V, Waffles INCaffeinated), (Wexford, V, Totin's Diner), (Wexford, V, Thorn Hill Tap House), (Wexford, V, The Woodlands Boarding), (Wexford, V, The Wexford Pub at Whole Foods #10377), (Wexford, V, The Waters of Wexford), (Wexford, V, The Spot Wexford), (Wexford, V, The Ryan Center Concession Stand), (Wexford, V, The Oxford Market Terrace), (Wexford, V, The Oven Pizza Company), (Wexford, V, The Oven Pizza Co Wexford), (Wexford, V, The Gyro Shop), (Wexford, V, The Camelot Event Center Wexford), (Wexford, V, The Beer Trap), (Wexford, V, Thai Place North), (Wexford, V, Tender Care Learning Centers), (Wexford, V, Tapville Social), (Wexford, V, Taco Bell #35249), (Wexford, V, T-Bones Market Place), (Wexford, V, Sushic @ Giant Eagle #43), (Wexford, V, Subway Sandwiches & Salads #2936), (Wexford, V, Starbucks Coffee #788), (Wexford, V, Starbucks Coffee #7732), (Wexford, V, Starbucks Coffee  #788), (Wexford, V, Stack'd Wexford), (Wexford, V, St Alexis School Cafeteria), (Wexford, V, Spice N Sabzi), (Wexford, V, Sonic Drive-In #6036), (Wexford, V, Soergel's Orchards), (Wexford, V, Soergel's Cider Press), (Wexford, V, Smoothie King #1364), (Wexford, V, Slice on Broadway), (Wexford, V, Sir Pizza), (Wexford, V, Shooters Golf & Bar), (Wexford, V, Shenot's Fudge Room), (Wexford, V, Shenot's Farm Market), (Wexford, V, Sheetz Convenience Store #277), (Wexford, V, Sarah's Hallmark), (Wexford, V, Robokyo Hibachi Express), (Wexford, V, Rite Aid Pharmacies #7825), (Wexford, V, Rite Aid Pharmacies #10903), (Wexford, V, Rita's Italian Ice), (Wexford, V, Reid's Fresh Express), (Wexford, V, Pure Cafe'), (Wexford, V, Popcorn - N -That), (Wexford, V, Poor Richard's Public House), (Wexford, V, Pomodoro), (Wexford, V, Pizza Hut #023982), (Wexford, V, Pittsburgh North Fitness), (Wexford, V, Peace, Love, & Little Donuts), (Wexford, V, Peace, Love & Little Donuts), (Wexford, V, Patron Mexican Grill), (Wexford, V, Panera Bread #4003016), (Wexford, V, Panera Bread #3490), (Wexford, V, Oxford Athletic Club Snack Bar), (Wexford, V, Oriental Express), (Wexford, V, Orchard Hill Church), ...]\n",
       "\n",
       "[110 rows x 0 columns]"
      ]
     },
     "execution_count": 5,
     "metadata": {},
     "output_type": "execute_result"
    }
   ],
   "source": [
    "file = file.sort_values(by=['city', 'rating', 'facility_name'], ascending = False)\n",
    "file = file.head(110)\n",
    "file"
   ]
  },
  {
   "cell_type": "markdown",
   "metadata": {},
   "source": [
    "First, I read in the dataset for restaurant violations in each city and dropped the unnecessary data such as the date of id of the reestaurant, state, street, num, etc. Then I had it sort by the city, rating (violation or no violation), and facility name. "
   ]
  }
 ],
 "metadata": {
  "kernelspec": {
   "display_name": "Python 3",
   "language": "python",
   "name": "python3"
  },
  "language_info": {
   "codemirror_mode": {
    "name": "ipython",
    "version": 3
   },
   "file_extension": ".py",
   "mimetype": "text/x-python",
   "name": "python",
   "nbconvert_exporter": "python",
   "pygments_lexer": "ipython3",
   "version": "3.8.3"
  }
 },
 "nbformat": 4,
 "nbformat_minor": 4
}
