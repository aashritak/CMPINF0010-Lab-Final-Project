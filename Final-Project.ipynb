{
 "cells": [
  {
   "cell_type": "markdown",
   "metadata": {},
   "source": [
    "Final Project"
   ]
  },
  {
   "cell_type": "code",
   "execution_count": 22,
   "metadata": {},
   "outputs": [
    {
     "name": "stdout",
     "output_type": "stream",
     "text": [
      "Empty DataFrame\n",
      "Columns: []\n",
      "Index: [(Aleppo, V, First Choice Services), (Aleppo, V, Masonic Village / Sewickley Child Care Center), (Aleppo, V, Masonic Village At Sewickley), (Aleppo, V, Masonic Village Country Kitchen), (Aleppo, V, Masonic Village Independnt Living Clubhouse & Grill Room), (Aleppo, V, Sewickley YMCA @ Masonic Village), (Aspinwall, N, Bella Christie & Lil' Z's Sweet Boutique), (Aspinwall, N, Casa Del Sole Pizza), (Aspinwall, N, Feast on Brilliant), (Aspinwall, N, Labriola Italian World), (Aspinwall, N, Ordinary Joe's), (Aspinwall, N, Salud Aspinwall), (Aspinwall, N, Spice Affair), (Aspinwall, N, Tavern In The Wall), (Aspinwall, V, American Legion Post #77), (Aspinwall, V, Aspinwall Beans & Cream), (Aspinwall, V, Bella Christie & Lil' Z's Sweet Boutique), (Aspinwall, V, Bella Christie & Lil' Z's Sweet Truck MFF3), (Aspinwall, V, Billu's Indian Grill (ZNX-7333) MFF4), (Aspinwall, V, Billu's Indian Grill Commissary), (Aspinwall, V, Botanical Vegan Cafe & Market), (Aspinwall, V, Caliente Pizza & Draft House), (Aspinwall, V, Casa Del Sole Pizza), (Aspinwall, V, Christ The Divine Teacher Academy Cafeteria), (Aspinwall, V, Cornerstone Restaurant), (Aspinwall, V, EZPZ Gatherings), (Aspinwall, V, Farmer x Baker), (Aspinwall, V, Feast on Brilliant), (Aspinwall, V, Franco's Restaurant), (Aspinwall, V, Labriola Italian World), (Aspinwall, V, Luke & Mike's Front Porch), (Aspinwall, V, Marisqueira), (Aspinwall, V, Ordinary Joe's), (Aspinwall, V, Pasquale's Pizzeria), (Aspinwall, V, Patty's Farm Market), (Aspinwall, V, Pure Grub), (Aspinwall, V, Randita's Organic Vegan Cafe), (Aspinwall, V, Salud Aspinwall), (Aspinwall, V, Spice Affair), (Aspinwall, V, Sunoco), (Aspinwall, V, Tavern In The Wall), (Aspinwall, V, Tom & Tuds), (Aspinwall, V, Top This!), (Aspinwall, V, Towne Drugs), (Aspinwall, V, Treat Down the Street), (Aspinwall, V, Vibrant Sunshine Juicery Cafe), (Aspinwall, V, Vocelli Pizza), (Aspinwall, V, Willie's Smokehouse), (Aspinwall, V, Zen Juice), (Avalon, N, Carline Cafe), (Avalon, N, Eat'n Park #2), (Avalon, N, Mia Madre Trattoria), (Avalon, N, North Boro YMCA Community Ctr), (Avalon, N, Quik Serv), (Avalon, N, The Rusty Dory Pub), (Avalon, N, Wendy's Old Fashioned Hamburgers #1632362), (Avalon, V, Achieva), (Avalon, V, American Legion Post #116), (Avalon, V, Asia Cafe), (Avalon, V, Avalon Elementary School), (Avalon, V, Avalon Fuel), (Avalon, V, Avalon Mart), (Avalon, V, Avalon Pool Snack Bar), (Avalon, V, Big Shot Bob's), (Avalon, V, Blue Sparrow Commissary), (Avalon, V, Blue Sparrow Food Bus (HH-16095) MFF4), (Avalon, V, Blue Sparrow Food Truck (ZGY-8048) MFF4), (Avalon, V, Burger King #17292), (Avalon, V, Carline Cafe), (Avalon, V, Dunkin' Donuts #355104), (Avalon, V, Eat'n Park #2), (Avalon, V, Fat Jack's Kitchen), (Avalon, V, Ghost Coffee Collab), (Avalon, V, Jackman Inn), (Avalon, V, Johnny's Hide-A-Way), (Avalon, V, Mia Madre Trattoria), (Avalon, V, New Hope Assisted Living), (Avalon, V, North Boro YMCA Community Ctr), (Avalon, V, Par Mar Store #204), (Avalon, V, Pizza Pronto), (Avalon, V, Quik Serv), (Avalon, V, Richbarn Roasters), (Avalon, V, Santa Fe Express (ZKE8845) MFF4), (Avalon, V, Skinny Pete's Kitchen), (Avalon, V, Smokin' Oven), (Avalon, V, Spades Catering), (Avalon, V, Starbucks Coffee #65010), (Avalon, V, Subway Sandwiches & Salads #18944), (Avalon, V, The Rusty Dory Pub), (Avalon, V, The Salvation Army / North Boroughs Corps), (Avalon, V, Waffles Pizza (ZPZ-8809) MFF3), (Avalon, V, Wendy's Old Fashioned Hamburger's), (Avalon, V, Wendy's Old Fashioned Hamburgers #1632362), (Baldwin Boro, N, Above & Beyond Catering), (Baldwin Boro, N, Baldwin Health Center), (Baldwin Boro, N, Bull River Taco), (Baldwin Boro, N, Bull River Taco Co), (Baldwin Boro, N, Garden Bar & Lounge), (Baldwin Boro, N, Partyline Catering / Bakery & Deli), (Baldwin Boro, N, Peace, Love, & Little Donuts of Baldwin/Whitehall), ...]\n",
      "\n",
      "[15013 rows x 0 columns]\n"
     ]
    }
   ],
   "source": [
    "import pandas as pd\n",
    "\n",
    "file = pd.read_csv(\"RestaurantInspections.csv\")\n",
    "file.drop(['_id', 'encounter', 'id', 'placard_st', 'bus_st_date', 'description', 'num', 'street', 'state', 'zip', 'inspect_dt', 'start_time', 'end_time', 'city', 'url', 'low', 'medium', 'high', 'description_new'], inplace = True, axis = 1)\n",
    "file = file.groupby(['municipal', 'rating', 'facility_name'], as_index = False).sum()\n",
    "file.set_index(['municipal', 'rating', 'facility_name'], drop = True, append = False, inplace = True, verify_integrity = False)\n",
    "print(file)"
   ]
  },
  {
   "cell_type": "code",
   "execution_count": 1,
   "metadata": {},
   "outputs": [
    {
     "name": "stdout",
     "output_type": "stream",
     "text": [
      "               city  violations_count\n",
      "74       Pittsburgh              9108\n",
      "63      Monroeville               453\n",
      "60      Mc Keesport               384\n",
      "25       Coraopolis               342\n",
      "46        Homestead               316\n",
      "..              ...               ...\n",
      "52       Kittanning                 1\n",
      "53          Latrobe                 1\n",
      "57        Massillon                 1\n",
      "67   New Alexandria                 1\n",
      "101      Zelienople                 1\n",
      "\n",
      "[102 rows x 2 columns]\n"
     ]
    }
   ],
   "source": [
    "import pandas as pd\n",
    "file = pd.read_csv(\"RestaurantInspections.csv\")\n",
    "columns_to_drop = ['_id', 'encounter', 'id', 'placard_st', 'bus_st_date', 'description', 'num', 'street', 'state', 'zip', 'inspect_dt', 'start_time', 'end_time', 'municipal', 'url', 'low', 'medium', 'high', 'description_new']\n",
    "file.drop(columns_to_drop, inplace=True, axis=1)\n",
    "grouped_data = file.groupby(['city', 'rating', 'facility_name'], as_index=False).sum()\n",
    "city_violations_count = grouped_data.groupby('city')['rating'].count().reset_index()\n",
    "city_violations_count.rename(columns={'rating': 'violations_count'}, inplace=True)\n",
    "sorted_cities = city_violations_count.sort_values('violations_count', ascending=False)\n",
    "\n",
    "print(sorted_cities)\n"
   ]
  },
  {
   "cell_type": "code",
   "execution_count": 26,
   "metadata": {},
   "outputs": [
    {
     "name": "stdout",
     "output_type": "stream",
     "text": [
      "Municipalities with only one violation:\n",
      "       municipal  violations_count\n",
      "47     Glenfield                 1\n",
      "52     Haysville                 1\n",
      "66      McDonald                 1\n",
      "83       Osborne                 1\n",
      "143  Unspecified                 1\n"
     ]
    }
   ],
   "source": [
    "import pandas as pd\n",
    "\n",
    "# Read the CSV file\n",
    "file = pd.read_csv(\"RestaurantInspections.csv\")\n",
    "\n",
    "# Drop unnecessary columns\n",
    "columns_to_drop = [\n",
    "    '_id', 'encounter', 'id', 'placard_st', 'bus_st_date', 'description',\n",
    "    'num', 'street', 'state', 'zip', 'inspect_dt', 'start_time', 'end_time',\n",
    "    'description_new'\n",
    "]\n",
    "file.drop(columns_to_drop, inplace=True, axis=1)\n",
    "\n",
    "# Group by 'municipal', 'rating', 'facility_name' and sum the violations\n",
    "grouped_data = file.groupby(['municipal', 'rating', 'facility_name'], as_index=False).sum()\n",
    "\n",
    "# Count the number of violations per municipal\n",
    "municipal_violations_count = grouped_data.groupby('municipal')['rating'].count().reset_index()\n",
    "municipal_violations_count.rename(columns={'rating': 'violations_count'}, inplace=True)\n",
    "\n",
    "# Find municipalities with only one violation\n",
    "municipals_with_one_violation = municipal_violations_count[municipal_violations_count['violations_count'] == 1]\n",
    "\n",
    "# Sort municipalities by violations count in ascending order\n",
    "sorted_municipals_with_one_violation = municipals_with_one_violation.sort_values('violations_count')\n",
    "\n",
    "print(\"Municipalities with only one violation:\")\n",
    "print(sorted_municipals_with_one_violation)\n"
   ]
  },
  {
   "cell_type": "code",
   "execution_count": 28,
   "metadata": {},
   "outputs": [
    {
     "name": "stdout",
     "output_type": "stream",
     "text": [
      "Municipalities among the five with 'T' in 'low' column:\n",
      "Glenfield\n",
      "Haysville\n",
      "McDonald\n",
      "Osborne\n"
     ]
    }
   ],
   "source": [
    "import pandas as pd\n",
    "\n",
    "# Read the CSV file\n",
    "file = pd.read_csv(\"RestaurantInspections.csv\")\n",
    "\n",
    "# Drop unnecessary columns\n",
    "columns_to_drop = [\n",
    "    '_id', 'encounter', 'id', 'placard_st', 'bus_st_date', 'description',\n",
    "    'num', 'street', 'state', 'zip', 'inspect_dt', 'start_time', 'end_time',\n",
    "    'description_new'\n",
    "]\n",
    "file.drop(columns_to_drop, inplace=True, axis=1)\n",
    "\n",
    "# Group by 'municipal', 'rating', 'facility_name' and sum the violations\n",
    "grouped_data = file.groupby(['municipal', 'rating', 'facility_name'], as_index=False).sum()\n",
    "\n",
    "# Count the number of violations per municipal\n",
    "municipal_violations_count = grouped_data.groupby('municipal')['rating'].count().reset_index()\n",
    "municipal_violations_count.rename(columns={'rating': 'violations_count'}, inplace=True)\n",
    "\n",
    "# Find municipalities with only one violation\n",
    "municipals_with_one_violation = municipal_violations_count[municipal_violations_count['violations_count'] == 1]\n",
    "\n",
    "# Filter data for these municipalities\n",
    "municipals_data = grouped_data[grouped_data['municipal'].isin(municipals_with_one_violation['municipal'])]\n",
    "\n",
    "# List municipalities among the five with 'T' in 'low' column\n",
    "municipals_with_T_in_low = municipals_data[municipals_data['low'].astype(str).str.contains('T', case=False)]['municipal'].unique()\n",
    "\n",
    "print(\"Municipalities among the five with 'T' in 'low' column:\")\n",
    "for municipal in municipals_with_T_in_low:\n",
    "    print(municipal)\n"
   ]
  },
  {
   "cell_type": "code",
   "execution_count": 6,
   "metadata": {},
   "outputs": [
    {
     "name": "stdout",
     "output_type": "stream",
     "text": [
      "Glenfield\n",
      "        municipal            description_new\n",
      "18725   Glenfield  Cleaning and Sanitization\n",
      "135001  Glenfield  Cleaning and Sanitization\n",
      "199906  Glenfield  Cleaning and Sanitization\n",
      "217275  Glenfield  Cleaning and Sanitization\n",
      "226755  Glenfield  Cleaning and Sanitization\n",
      "\n",
      "Haysville\n",
      "        municipal                                    description_new\n",
      "141593  Haysville                  Certified Food Protection Manager\n",
      "187655  Haysville                  Certified Food Protection Manager\n",
      "2961    Haysville                          Cleaning and Sanitization\n",
      "169123  Haysville                          Cleaning and Sanitization\n",
      "169126  Haysville  Contamination Prevention - Food, Utensils and ...\n",
      "113409  Haysville  Fabrication, Design, Installation and Maintenance\n",
      "187656  Haysville  Fabrication, Design, Installation and Maintenance\n",
      "113411  Haysville                                           Lighting\n",
      "169124  Haysville                                    Pest Management\n",
      "113410  Haysville                                        Toilet Room\n",
      "169127  Haysville                                        Toilet Room\n",
      "3221    Haysville                                 Walls and ceilings\n",
      "187657  Haysville                                 Walls and ceilings\n",
      "\n",
      "McDonald\n",
      "       municipal                                    description_new\n",
      "145054  McDonald                          Cleaning and Sanitization\n",
      "223384  McDonald                          Cleaning and Sanitization\n",
      "223383  McDonald                     Cross-Contamination Prevention\n",
      "262250  McDonald  Fabrication, Design, Installation and Maintenance\n",
      "12642   McDonald                                             Floors\n",
      "22044   McDonald                                 Garbage and Refuse\n",
      "12534   McDonald                                        Toxic Items\n",
      "73715   McDonald                                        Toxic Items\n",
      "12643   McDonald                                 Walls and ceilings\n",
      "223385  McDonald                                 Walls and ceilings\n",
      "\n",
      "Osborne\n",
      "       municipal                                    description_new\n",
      "51694    Osborne                          Cleaning and Sanitization\n",
      "192478   Osborne  Contamination Prevention - Food, Utensils and ...\n",
      "326283   Osborne  Contamination Prevention - Food, Utensils and ...\n",
      "51696    Osborne  Fabrication, Design, Installation and Maintenance\n",
      "326284   Osborne  Fabrication, Design, Installation and Maintenance\n",
      "256357   Osborne                              Food Source/Condition\n",
      "51695    Osborne                             Handwashing Facilities\n",
      "51698    Osborne                                           Lighting\n",
      "51697    Osborne                                        Toilet Room\n",
      "326285   Osborne                                 Walls and ceilings\n",
      "\n"
     ]
    }
   ],
   "source": [
    "import pandas as pd\n",
    "\n",
    "# Read the CSV file\n",
    "file = pd.read_csv(\"RestaurantInspections.csv\")\n",
    "\n",
    "# Drop unnecessary columns\n",
    "columns_to_drop = [\n",
    "    '_id', 'encounter', 'id', 'placard_st', 'bus_st_date', 'num', 'street', \n",
    "    'state', 'zip', 'inspect_dt', 'start_time', 'end_time', 'rating', 'facility_name'\n",
    "]\n",
    "file.drop(columns_to_drop, inplace=True, axis=1)\n",
    "\n",
    "# Filter data for the four municipalities with 'T' in 'low' column\n",
    "municipalities = ['Glenfield', 'Haysville', 'McDonald', 'Osborne']\n",
    "filtered_data = file[file['municipal'].isin(municipalities)]\n",
    "filtered_data = filtered_data[filtered_data['low'].astype(str).str.contains('T', case=False)]\n",
    "\n",
    "# Sort the filtered data by 'description_new' column\n",
    "sorted_data = filtered_data.sort_values(by=['municipal', 'description_new'])\n",
    "\n",
    "# Group the sorted data by 'municipal'\n",
    "grouped_data = sorted_data.groupby('municipal')\n",
    "\n",
    "# Display the grouped data\n",
    "for name, group in grouped_data:\n",
    "    print(name)\n",
    "    print(group[['municipal', 'description_new']])\n",
    "    print()\n",
    "\n",
    "    "
   ]
  },
  {
   "cell_type": "markdown",
   "metadata": {},
   "source": [
    "First, I read in the dataset for restaurant violations in each city and dropped the unnecessary data such as the date of id of the reestaurant, state, street, num, etc. Then I had it sort by the city, rating (violation or no violation), and facility name. I determined which city had the least restaurant violations. Next I sorted the data by cities with the lowest number of violations. There were 26 cities that had only one violation, so I wrote code to list which ones had only one violation. There were 5, and then I got more specific and asked which out of the 5 had a 'T' in the 'low' column indicating the severity of the violation. Finally, I sorted by the description of the violation. Out of these, Glenfield is the city with the least number of violations that are also low severity. Another thing that helps is that all the descriptions only say \"cleaning and sanitization\" which is a problem that can be solved easily compared to the other cities with other types of violations such as pest control, toxic items, contamination prevention, etc. "
   ]
  }
 ],
 "metadata": {
  "kernelspec": {
   "display_name": "Python 3",
   "language": "python",
   "name": "python3"
  },
  "language_info": {
   "codemirror_mode": {
    "name": "ipython",
    "version": 3
   },
   "file_extension": ".py",
   "mimetype": "text/x-python",
   "name": "python",
   "nbconvert_exporter": "python",
   "pygments_lexer": "ipython3",
   "version": "3.8.3"
  }
 },
 "nbformat": 4,
 "nbformat_minor": 4
}
