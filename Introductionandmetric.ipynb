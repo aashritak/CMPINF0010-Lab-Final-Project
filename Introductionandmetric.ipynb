{
 "cells": [
  {
   "cell_type": "markdown",
   "metadata": {},
   "source": [
    "## Introduction"
   ]
  },
  {
   "cell_type": "markdown",
   "metadata": {},
   "source": [
    "In our research to determine the best neighborhood in Pittsburgh's neighborhoods, we analyzed three datasets. Initially focusing on aspects like Smart Trash Can usage, School Enrollment, and Parks accessibility to determine how livable the neighborhood is. Our metric is 'livability,' which makes sure the neighborhood has opportunities, making it feel like a community, and making it a great place to live."
   ]
  },
  {
   "cell_type": "markdown",
   "metadata": {},
   "source": [
    "## Metric"
   ]
  },
  {
   "cell_type": "markdown",
   "metadata": {},
   "source": [
    "In our assessment of Pittsburgh's neighborhoods, we looked at three datasets, Smart Trash Can usage, School Enrollment, and Parks accessibility. These metrics allowed us to determine the community cleanliness, educational opportunities, and recreational spaces. We originally were going to include Arrests data, to determine which neighborhoods were safer in terms of crime rates, but the data was in latitude and longitude and made it hard to determine which neighborhoods had lower crime rates than others."
   ]
  }
 ],
 "metadata": {
  "kernelspec": {
   "display_name": "Python 3",
   "language": "python",
   "name": "python3"
  },
  "language_info": {
   "codemirror_mode": {
    "name": "ipython",
    "version": 3
   },
   "file_extension": ".py",
   "mimetype": "text/x-python",
   "name": "python",
   "nbconvert_exporter": "python",
   "pygments_lexer": "ipython3",
   "version": "3.8.3"
  }
 },
 "nbformat": 4,
 "nbformat_minor": 4
}
