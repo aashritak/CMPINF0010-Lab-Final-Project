{
 "cells": [
  {
   "cell_type": "markdown",
   "metadata": {},
   "source": [
    "## Introduction"
   ]
  },
  {
   "cell_type": "markdown",
   "metadata": {},
   "source": [
    "As part of our project assessing Pittsburgh's neighborhoods, we engaged in a thorough examination of diverse datasets. Initially focusing on indicators like Smart Trash Can usage, School Enrollment, and Parks accessibility to gauge neighborhood quality. Livability emerged as our chosen metric because it encapsulated the essence of what makes a neighborhood not just habitable but desirable to live in. It encompassed aspects beyond mere infrastructure and delved into the quality of life offered by these communities. This metric aligned with our goal to provide a holistic view, considering factors that impact residents' daily experiences and contribute to their overall satisfaction within a neighborhood."
   ]
  },
  {
   "cell_type": "markdown",
   "metadata": {},
   "source": [
    "## Metric"
   ]
  },
  {
   "cell_type": "markdown",
   "metadata": {},
   "source": [
    "In our assessment of Pittsburgh's neighborhoods, we heavily relied on datasets portraying key livability factors like Smart Trash Can usage, School Enrollment, and Parks accessibility. These metrics provided crucial insights into community cleanliness, educational opportunities, and recreational spaces. However, incorporating Arrests data, vital for understanding safety, posed a challenge due to its latitude and longitude format. This format made it complex to accurately assign incidents to specific neighborhoods, leading to its exclusion from our analysis despite its relevance to neighborhood safety assessment."
   ]
  }
 ],
 "metadata": {
  "kernelspec": {
   "display_name": "Python 3",
   "language": "python",
   "name": "python3"
  },
  "language_info": {
   "codemirror_mode": {
    "name": "ipython",
    "version": 3
   },
   "file_extension": ".py",
   "mimetype": "text/x-python",
   "name": "python",
   "nbconvert_exporter": "python",
   "pygments_lexer": "ipython3",
   "version": "3.8.3"
  }
 },
 "nbformat": 4,
 "nbformat_minor": 4
}
