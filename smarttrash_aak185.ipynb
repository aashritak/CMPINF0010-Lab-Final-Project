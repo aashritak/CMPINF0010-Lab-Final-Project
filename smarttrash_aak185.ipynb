{
 "cells": [
  {
   "cell_type": "markdown",
   "metadata": {},
   "source": [
    "<h1> Smart Trash Containers"
   ]
  },
  {
   "cell_type": "markdown",
   "metadata": {},
   "source": [
    "One of the factors of our best neighbourhood is the number of smart trash containers in neighbourhoods. This factored into our metric of livability because the more recyclying is enforced the better the community is, and its better for the environment. This data set is from the Western Pennsylvania Regional Data Center."
   ]
  },
  {
   "cell_type": "code",
   "execution_count": 2,
   "metadata": {},
   "outputs": [
    {
     "name": "stdout",
     "output_type": "stream",
     "text": [
      "Shadyside              76\n",
      "East Liberty           68\n",
      "Squirrel Hill South    63\n",
      "Bloomfield             58\n",
      "North Shore            53\n",
      "                       ..\n",
      "Mt. Oliver              1\n",
      "East Carnegie           1\n",
      "Windgap                 1\n",
      "South Shore             1\n",
      "Swisshelm Park          1\n",
      "Name: neighborhood, Length: 79, dtype: int64\n"
     ]
    }
   ],
   "source": [
    "import pandas as pd\n",
    "data = pd.read_csv(\"smarttrashcontainers.csv\")\n",
    "name_counts = data['neighborhood'].value_counts()\n",
    "print(name_counts)"
   ]
  },
  {
   "cell_type": "markdown",
   "metadata": {},
   "source": [
    "Above I am just reading in the dataset, and I only needed to count the number of times each neighbourhood was mentioned in a log since the data set contained every smart trash container in Pittsburgh (excluding those in community spaces). I then just print out the formatted data set that tells me which neighbourhoods have the highest number of smart trash continers. "
   ]
  },
  {
   "cell_type": "code",
   "execution_count": 6,
   "metadata": {},
   "outputs": [
    {
     "data": {
      "text/plain": [
       "Shadyside              76\n",
       "East Liberty           68\n",
       "Squirrel Hill South    63\n",
       "Bloomfield             58\n",
       "North Shore            53\n",
       "South Side Flats       51\n",
       "Strip District         42\n",
       "Carrick                38\n",
       "Central Oakland        34\n",
       "Lower Lawrenceville    29\n",
       "Name: neighborhood, dtype: int64"
      ]
     },
     "execution_count": 6,
     "metadata": {},
     "output_type": "execute_result"
    }
   ],
   "source": [
    "name_counts = name_counts.head(10)\n",
    "name_counts"
   ]
  },
  {
   "cell_type": "code",
   "execution_count": 5,
   "metadata": {},
   "outputs": [
    {
     "data": {
      "text/plain": [
       "<matplotlib.axes._subplots.AxesSubplot at 0x7f7c5bffa070>"
      ]
     },
     "execution_count": 5,
     "metadata": {},
     "output_type": "execute_result"
    },
    {
     "data": {
      "image/png": "[encoded data removed]",
      "text/plain": [
       "<Figure size 432x288 with 1 Axes>"
      ]
     },
     "metadata": {
      "needs_background": "light"
     },
     "output_type": "display_data"
    }
   ],
   "source": [
    "name_counts.plot.bar()"
   ]
  },
  {
   "cell_type": "markdown",
   "metadata": {},
   "source": [
    "From this bar graph we can deduct that the neighbourhood with the most smart trash containers would be Shadyside, with East Liberty and Squirrel Hill South right behind."
   ]
  }
 ],
 "metadata": {
  "kernelspec": {
   "display_name": "Python 3",
   "language": "python",
   "name": "python3"
  },
  "language_info": {
   "codemirror_mode": {
    "name": "ipython",
    "version": 3
   },
   "file_extension": ".py",
   "mimetype": "text/x-python",
   "name": "python",
   "nbconvert_exporter": "python",
   "pygments_lexer": "ipython3",
   "version": "3.8.3"
  }
 },
 "nbformat": 4,
 "nbformat_minor": 4
}
